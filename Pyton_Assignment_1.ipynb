{
  "nbformat": 4,
  "nbformat_minor": 0,
  "metadata": {
    "colab": {
      "name": "Pyton Assignment 1.ipynb",
      "provenance": []
    },
    "kernelspec": {
      "name": "python3",
      "display_name": "Python 3"
    }
  },
  "cells": [
    {
      "cell_type": "markdown",
      "metadata": {
        "id": "KOOUd4BCE6Cn"
      },
      "source": [
        "\n",
        "\n",
        "```\n",
        "1.Introduction \n",
        "This assignment will help you to consolidate the concepts learnt in the session. 2.Problem Statement \n",
        "1. Install Jupyter notebook and run the first program and share the screenshot of the output. LINK \n",
        "1. Write a program which will find all such numbers which are divisible by 7 but are not a multiple of 5, between 2000 and 3200 (both included). The numbers obtained should be printed  in a comma-separated sequence on a single line. \n",
        "2. Write a Python program to accept the user's first and last name and then getting them printed in the the reverse order with a space between first name and last name. \n",
        "3. Write a Python program to find the volume of a sphere with diameter 12 cm.Formula: V=4/3 * π * r 3 \n",
        "NOTE:ThesolutionsharedthroughGithubshouldcontainthesource codeused and the screenshotoftheoutput. \n",
        "3.Output \n",
        "This assignment consists of 200 marks and the solution file needs to be submitted in the  upcoming session in .ipynb format for evaluation. \n",
        "\n",
        "```\n",
        "\n"
      ]
    },
    {
      "cell_type": "code",
      "metadata": {
        "id": "rrOxnIPwECLl",
        "outputId": "88e30143-e4fa-4788-a963-b973db6070cb",
        "colab": {
          "base_uri": "https://localhost:8080/",
          "height": 54
        }
      },
      "source": [
        "def divby7():\n",
        "    for number in range(2000, 3200+1):\n",
        "        if number %7==0 and number%5!=0:\n",
        "            print(number, end=\",\")\n",
        "\n",
        "divby7()"
      ],
      "execution_count": 2,
      "outputs": [
        {
          "output_type": "stream",
          "text": [
            "2002,2009,2016,2023,2037,2044,2051,2058,2072,2079,2086,2093,2107,2114,2121,2128,2142,2149,2156,2163,2177,2184,2191,2198,2212,2219,2226,2233,2247,2254,2261,2268,2282,2289,2296,2303,2317,2324,2331,2338,2352,2359,2366,2373,2387,2394,2401,2408,2422,2429,2436,2443,2457,2464,2471,2478,2492,2499,2506,2513,2527,2534,2541,2548,2562,2569,2576,2583,2597,2604,2611,2618,2632,2639,2646,2653,2667,2674,2681,2688,2702,2709,2716,2723,2737,2744,2751,2758,2772,2779,2786,2793,2807,2814,2821,2828,2842,2849,2856,2863,2877,2884,2891,2898,2912,2919,2926,2933,2947,2954,2961,2968,2982,2989,2996,3003,3017,3024,3031,3038,3052,3059,3066,3073,3087,3094,3101,3108,3122,3129,3136,3143,3157,3164,3171,3178,3192,3199,"
          ],
          "name": "stdout"
        }
      ]
    },
    {
      "cell_type": "code",
      "metadata": {
        "id": "kZb4UDasFlGg",
        "outputId": "5fe3a939-cb31-426a-8c42-c39a1cba19b0",
        "colab": {
          "base_uri": "https://localhost:8080/",
          "height": 70
        }
      },
      "source": [
        "def username():\n",
        "    first_name = input()\n",
        "    last_name = input()\n",
        "    print(first_name[::-1], last_name[::-1])\n",
        "username()"
      ],
      "execution_count": 7,
      "outputs": [
        {
          "output_type": "stream",
          "text": [
            "janardhan\n",
            "pasala\n",
            "nahdranaj alasap\n"
          ],
          "name": "stdout"
        }
      ]
    },
    {
      "cell_type": "code",
      "metadata": {
        "id": "3ZNzqetlGSvU",
        "outputId": "ac6476d8-edb6-4e58-b0a1-0b3b88aa1518",
        "colab": {
          "base_uri": "https://localhost:8080/",
          "height": 34
        }
      },
      "source": [
        "from math import pi\n",
        "def sphere_volume(diameter):\n",
        "    print(4/3*pi*(diameter/2)**3)\n",
        "sphere_volume(12)"
      ],
      "execution_count": 8,
      "outputs": [
        {
          "output_type": "stream",
          "text": [
            "904.7786842338603\n"
          ],
          "name": "stdout"
        }
      ]
    },
    {
      "cell_type": "code",
      "metadata": {
        "id": "SKRXCPVEH6BW"
      },
      "source": [
        ""
      ],
      "execution_count": null,
      "outputs": []
    }
  ]
}